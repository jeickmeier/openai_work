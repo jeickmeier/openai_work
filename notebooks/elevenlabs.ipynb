{
 "cells": [
  {
   "cell_type": "code",
   "execution_count": 6,
   "metadata": {},
   "outputs": [],
   "source": [
    "import uuid\n",
    "\n",
    "from elevenlabs import VoiceSettings\n",
    "from elevenlabs.client import ElevenLabs"
   ]
  },
  {
   "cell_type": "code",
   "execution_count": 11,
   "metadata": {},
   "outputs": [],
   "source": [
    "def text_to_speech_file(client: ElevenLabs, text: str, voice_id: str = \"pNInz6obpgDQGcFmaJgB\") -> str:\n",
    "    \"\"\"\n",
    "    Converts text to speech and saves the output as an MP3 file.\n",
    "\n",
    "    This function uses a specific client for text-to-speech conversion. It configures\n",
    "    various parameters for the voice output and saves the resulting audio stream to an\n",
    "    MP3 file with a unique name.\n",
    "\n",
    "    Args:\n",
    "        text (str): The text content to convert to speech.\n",
    "\n",
    "    Returns:\n",
    "        str: The file path where the audio file has been saved.\n",
    "    \"\"\"\n",
    "    # Calling the text_to_speech conversion API with detailed parameters\n",
    "    response = client.text_to_speech.convert(\n",
    "        voice_id = voice_id,\n",
    "        optimize_streaming_latency=\"0\",\n",
    "        output_format=\"mp3_22050_32\",\n",
    "        text=text,\n",
    "        model_id=\"eleven_turbo_v2\",  # use the turbo model for low latency, for other languages use the `eleven_multilingual_v2`\n",
    "        voice_settings=VoiceSettings(\n",
    "            stability=0.0,\n",
    "            similarity_boost=1.0,\n",
    "            style=0.0,\n",
    "            use_speaker_boost=True,\n",
    "        ),\n",
    "    )\n",
    "\n",
    "    # Generating a unique file name for the output MP3 file\n",
    "    save_file_path = f\"{uuid.uuid4()}.mp3\"\n",
    "    # Writing the audio stream to the file\n",
    "\n",
    "    with open(save_file_path, \"wb\") as f:\n",
    "        for chunk in response:\n",
    "            if chunk:\n",
    "                f.write(chunk)\n",
    "\n",
    "    print(f\"A new audio file was saved successfully at {save_file_path}\")\n",
    "\n",
    "    # Return the path of the saved audio file\n",
    "    return save_file_path"
   ]
  },
  {
   "cell_type": "code",
   "execution_count": 15,
   "metadata": {},
   "outputs": [],
   "source": [
    "ELEVENLABS_API_KEY = \"sk_3f382b183631427b6b2a07ae2f236b963ac275ec8f869270\""
   ]
  },
  {
   "cell_type": "code",
   "execution_count": 16,
   "metadata": {},
   "outputs": [],
   "source": [
    "client = ElevenLabs(\n",
    "    api_key=ELEVENLABS_API_KEY,\n",
    ")"
   ]
  },
  {
   "cell_type": "code",
   "execution_count": 18,
   "metadata": {},
   "outputs": [
    {
     "name": "stdout",
     "output_type": "stream",
     "text": [
      "A new audio file was saved successfully at 0e133c73-c630-44f5-af90-6dbdc54f6cd9.mp3\n"
     ]
    },
    {
     "data": {
      "text/plain": [
       "'0e133c73-c630-44f5-af90-6dbdc54f6cd9.mp3'"
      ]
     },
     "execution_count": 18,
     "metadata": {},
     "output_type": "execute_result"
    }
   ],
   "source": [
    "txt = \"like us are important. However, models trained on these conversations may not fully capture the teacher's reasoning process. To improve this, we introduce a system message, which prompts the model to explain the reasoning process in simple terms. This helps models like GPT-4 and Orca 2 (Mukherjee et al., 2023; Mitra et al., 2023) to learn the process by tracing the teacher's steps and identifying the most effective strategy for each task. This approach enhances the model's ability to follow inst...\"\n",
    "text_to_speech_file(client, txt, voice_id=\"Xb7hH8MSUJpSbSDYk0k2\")"
   ]
  },
  {
   "cell_type": "code",
   "execution_count": null,
   "metadata": {},
   "outputs": [],
   "source": []
  }
 ],
 "metadata": {
  "kernelspec": {
   "display_name": "openai-work-KAISIJ17-py3.9",
   "language": "python",
   "name": "python3"
  },
  "language_info": {
   "codemirror_mode": {
    "name": "ipython",
    "version": 3
   },
   "file_extension": ".py",
   "mimetype": "text/x-python",
   "name": "python",
   "nbconvert_exporter": "python",
   "pygments_lexer": "ipython3",
   "version": "3.9.7"
  }
 },
 "nbformat": 4,
 "nbformat_minor": 2
}
